{
 "cells": [
  {
   "cell_type": "markdown",
   "metadata": {},
   "source": [
    "### SQL common commands\n",
    "\n",
    "`SELECT` - extracts data from a database  \n",
    "`UPDATE` - updates data in a database  \n",
    "`DELETE` - deletes data from a database  \n",
    "`INSERT INTO` - inserts new data into a database  \n",
    "`CREATE DATABASE` - creates a new database  \n",
    "`ALTER DATABASE` - modifies a database  \n",
    "`CREATE TABLE` - creates a new table  \n",
    "`ALTER TABLE` - modifies a table  \n",
    "`DROP TABLE` - deletes a table  \n",
    "`CREATE INDEX` - creates an index (search key)  \n",
    "`DROP INDEX` - deletes an index  \n"
   ]
  },
  {
   "cell_type": "markdown",
   "metadata": {},
   "source": [
    "### The SQL SELECT DISTINCT Statement\n",
    "\n",
    "The `SELECT DISTINCT` statement is used to return only distinct (different) values.\n",
    "\n",
    "Inside a table, a column often contains many duplicate values; and sometimes you only want to list the different (distinct) values.  \n",
    "`SELECT DISTINCT Syntax`  \n",
    "`SELECT DISTINCT column1, column2, ...`  \n",
    "`FROM table_name;`   "
   ]
  },
  {
   "cell_type": "markdown",
   "metadata": {},
   "source": [
    "### Operators in The WHERE Clause\n",
    "\n",
    "The following operators can be used in the WHERE clause:  \n",
    "- `=` \tEqual  \n",
    "- `>` \tGreater than   \t\n",
    "- `<` \tLess than   \t\n",
    "- `>=` \tGreater than or equal \t  \n",
    "- `<=` \tLess than or equal \t  \n",
    "- `<>` \tNot equal. Note: In some versions of SQL this operator may be written as !=  \n",
    "- `BETWEEN` \tBetween a certain range \t  \n",
    "- `LIKE` \tSearch for a pattern \t  \n",
    "- `IN` \tTo specify multiple possible values for a column  "
   ]
  },
  {
   "cell_type": "markdown",
   "metadata": {},
   "source": [
    "\n",
    "### The SQL ORDER BY Keyword\n",
    "\n",
    "The `ORDER BY` keyword is used to sort the result-set in ascending or descending order.\n",
    "\n",
    "The `ORDER BY` keyword sorts the records in ascending order by default. To sort the records in descending order, use the `DESC` keyword."
   ]
  },
  {
   "cell_type": "markdown",
   "metadata": {},
   "source": [
    "### ORDER BY Several Columns\n",
    "\n",
    "The following SQL statement selects all customers from the \"Customers\" table, sorted ascending by the \"Country\" and descending by the \"CustomerName\" column:  \n",
    "##### Example  \n",
    "`SELECT * FROM Customers`  \n",
    "`ORDER BY Country ASC, CustomerName DESC; `"
   ]
  },
  {
   "cell_type": "markdown",
   "metadata": {},
   "source": [
    "### The SQL INSERT INTO Statement\n",
    "\n",
    "The INSERT INTO statement is used to insert new records in a table.  \n",
    "##### INSERT INTO Syntax\n",
    "\n",
    "It is possible to write the `INSERT INTO` statement in two ways:  \n",
    "\n",
    "1. Specify both the column names and the values to be inserted:  \n",
    "`INSERT INTO table_name (column1, column2, column3, ...)`  \n",
    "`VALUES (value1, value2, value3, ...);`  \n",
    "\n",
    "2. If you are adding values for all the columns of the table,  \n",
    " you do not need to specify the column names in the SQL query.  \n",
    "  However, make sure the order of the values is in the same order as the columns in the table.   \n",
    "  Here, the `INSERT INTO` syntax would be as follows:  \n",
    "`INSERT INTO table_name`\n",
    "`VALUES (value1, value2, value3, ...);` "
   ]
  },
  {
   "cell_type": "markdown",
   "metadata": {},
   "source": [
    "### How to Test for NULL Values?\n",
    "\n",
    "It is not possible to test for `NULL` values with comparison operators,  \n",
    " such as `=`, `<`, or `<>`.  \n",
    "\n",
    "We will have to use the `IS NULL` and `IS NOT NULL` operators instead."
   ]
  },
  {
   "cell_type": "markdown",
   "metadata": {},
   "source": [
    "### The SQL UPDATE Statement\n",
    "\n",
    "The `UPDATE` statement is used to modify the existing records in a table. \n",
    "\n",
    "\n",
    "`UPDATE table_name`  \n",
    "`SET column1 = value1, column2 = value2, ...`  \n",
    "`WHERE condition;`   "
   ]
  },
  {
   "cell_type": "markdown",
   "metadata": {},
   "source": [
    "### The SQL DELETE Statement\n",
    "\n",
    "The `DELETE` statement is used to delete existing records in a table.  \n",
    "`DELETE FROM table_name WHERE condition;`"
   ]
  }
 ],
 "metadata": {
  "kernelspec": {
   "display_name": "Python 3.9.6 ('lib_env': venv)",
   "language": "python",
   "name": "python3"
  },
  "language_info": {
   "name": "python",
   "version": "3.9.6 (tags/v3.9.6:db3ff76, Jun 28 2021, 15:26:21) [MSC v.1929 64 bit (AMD64)]"
  },
  "orig_nbformat": 4,
  "vscode": {
   "interpreter": {
    "hash": "478cc61aca76ea3a68bf9b73cb9863f03a5aef032dfce46b4b888bba5809bfc0"
   }
  }
 },
 "nbformat": 4,
 "nbformat_minor": 2
}

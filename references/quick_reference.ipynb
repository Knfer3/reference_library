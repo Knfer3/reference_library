{
 "cells": [
  {
   "cell_type": "markdown",
   "metadata": {},
   "source": [
    "### Create a Virtual environment\n"
   ]
  },
  {
   "cell_type": "markdown",
   "metadata": {},
   "source": [
    "    python3 venv -m <name_of_env>\n"
   ]
  },
  {
   "cell_type": "markdown",
   "metadata": {},
   "source": [
    "### Overview of python language - Mindmap\n",
    "__[Link to mindmap](https://www.mindmeister.com/1899695689/python-mind-map?fullscreen=1)__\n",
    "\n"
   ]
  },
  {
   "cell_type": "markdown",
   "metadata": {},
   "source": []
  }
 ],
 "metadata": {
  "kernelspec": {
   "display_name": "Python 3.8.3 ('ikigai')",
   "language": "python",
   "name": "python3"
  },
  "language_info": {
   "name": "python",
   "version": "3.8.3"
  },
  "orig_nbformat": 4,
  "vscode": {
   "interpreter": {
    "hash": "8838ce26b1796a040d84f47621c2bbe3dd95e4c112c3adeb91c21aa311315448"
   }
  }
 },
 "nbformat": 4,
 "nbformat_minor": 2
}

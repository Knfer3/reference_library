{
 "cells": [
  {
   "attachments": {},
   "cell_type": "markdown",
   "metadata": {},
   "source": [
    "### Topics to research more about\n",
    "\n",
    "When the odd opiphany strikes, write a note to come back to later or when you have some time to learn something new. "
   ]
  },
  {
   "attachments": {},
   "cell_type": "markdown",
   "metadata": {},
   "source": [
    "### Topics\n",
    "\n",
    "- making python modules:  \n",
    "Why? create my own repository of scripts to use on-demand. i.e. conversions\n",
    "\n",
    "- Try & except clauses:  \n",
    "Why? More practise"
   ]
  },
  {
   "cell_type": "markdown",
   "metadata": {},
   "source": []
  }
 ],
 "metadata": {
  "kernelspec": {
   "display_name": "Python 3.9.6 ('lib_env': venv)",
   "language": "python",
   "name": "python3"
  },
  "language_info": {
   "name": "python",
   "version": "3.9.6"
  },
  "orig_nbformat": 4,
  "vscode": {
   "interpreter": {
    "hash": "478cc61aca76ea3a68bf9b73cb9863f03a5aef032dfce46b4b888bba5809bfc0"
   }
  }
 },
 "nbformat": 4,
 "nbformat_minor": 2
}

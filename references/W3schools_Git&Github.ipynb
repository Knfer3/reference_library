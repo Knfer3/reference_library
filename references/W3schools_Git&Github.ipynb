{
 "cells": [
  {
   "cell_type": "markdown",
   "metadata": {},
   "source": [
    "### Git & Github\n",
    "\n",
    "sign up on github  \n",
    "use the same email address that was used in Gti config\n",
    "\n",
    "create teh repository on Github \n"
   ]
  }
 ],
 "metadata": {
  "language_info": {
   "name": "python"
  },
  "orig_nbformat": 4
 },
 "nbformat": 4,
 "nbformat_minor": 2
}

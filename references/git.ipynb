{
 "cells": [
  {
   "cell_type": "markdown",
   "metadata": {},
   "source": [
    "# Learning GIT\n"
   ]
  },
  {
   "cell_type": "markdown",
   "metadata": {},
   "source": [
    "- version control system\n",
    "-keep track of code changes\n",
    "- used to collaborate on code\n"
   ]
  },
  {
   "cell_type": "markdown",
   "metadata": {},
   "source": [
    "### version\n"
   ]
  },
  {
   "cell_type": "markdown",
   "metadata": {},
   "source": [
    "    git --version"
   ]
  },
  {
   "cell_type": "markdown",
   "metadata": {},
   "source": [
    "### What does Git do? \n",
    "\n",
    "- manage projects with repositories\n",
    "- clone a project to work on a local copy\n",
    "- control and track changes with **Staging** and **Commiting**\n",
    "- **Branch** and **Merge** to allow for work on different parts and versions of a project\n",
    "- **Pull** the latest verseion of the project to a local copy\n",
    "- **Push** local updates to the main project"
   ]
  },
  {
   "cell_type": "markdown",
   "metadata": {},
   "source": [
    "### Working with Git\n",
    "\n",
    "- initialise git on a folder, making it a repositiory\n",
    "- git now creates a hidden folder to keep track of changes in that folder\n",
    "- when a file is changed, added or deleted, it is considered **modified**\n",
    "- you select the modified files you want to **Stage**\n",
    "- The **Staged** files are **commited**, which prompts Git to store a permenant snapshot of the files\n",
    "- Git allows you to see full history of every commit\n",
    "- you can rever back to any previous commit\n",
    "- Git does not store a separate copy of every file in every commit, but keeps track of changes made in each commit!\n"
   ]
  },
  {
   "cell_type": "markdown",
   "metadata": {},
   "source": [
    "### Configure Git\n",
    "\n",
    "    git config --global user.name \"test\"\n",
    "    git config --global user.email \"test@email.com\"\n",
    "    "
   ]
  },
  {
   "cell_type": "markdown",
   "metadata": {},
   "source": [
    "### Initialise Git\n",
    "\n",
    "- cd into the correct folder, \n",
    "- now you can initialise:\n",
    "\n",
    "    `git init`"
   ]
  },
  {
   "cell_type": "markdown",
   "metadata": {},
   "source": [
    "### Git staging environment\n",
    "\n",
    "- **Staging** and **Committing** are core functions of Git\n",
    "- as you reach a milestone you should add files to the staging area\n",
    "- Staged files are ready to be committed to the repository\n",
    "\n",
    "\n",
    "    `git add <file name>`  \n",
    "    `git add --all `  \n",
    "    `git add -A  <---most prefered`  "
   ]
  },
  {
   "cell_type": "markdown",
   "metadata": {},
   "source": [
    "### Git Commit\n",
    "\n",
    "- finished work, ready to move it from stage to commit to the repo\n",
    "- Git considers each commit a save point\n",
    "- when we commit we always include a message\n",
    "\n",
    "`git commit -m\"This is the message\"`"
   ]
  },
  {
   "cell_type": "markdown",
   "metadata": {},
   "source": [
    "#### commit without staging\n",
    "\n",
    "to commit small changes without staging \n",
    "\n",
    "`git commit -a -m\"message\"`"
   ]
  },
  {
   "cell_type": "markdown",
   "metadata": {},
   "source": [
    "### Git Commit log\n",
    "\n",
    "`git log`"
   ]
  },
  {
   "cell_type": "markdown",
   "metadata": {},
   "source": [
    "### Git help\n",
    "\n",
    "see options for specific command  \n",
    "`git <command> -help`  \n",
    "see all possible commands  \n",
    "`git help --all`\n"
   ]
  },
  {
   "cell_type": "markdown",
   "metadata": {},
   "source": [
    "### Git Branch\n",
    "\n",
    "- a `branch` is a new/separate version of the main repository.\n",
    "\n",
    "`git branch <branch name>`\n",
    "\n",
    "check it was created.\n",
    "`git branch`\n",
    "\n",
    "the asterisk `*` denotes which branch you are currently working on.\n",
    "\n",
    "move the the specified branch `checkout`\n",
    "\n",
    "`git checkout <branch name>`\n",
    "\n",
    "after changes \n",
    "add to staging `git add -A`  \n",
    "`git status`\n",
    "\n",
    "\n",
    "\n"
   ]
  },
  {
   "cell_type": "markdown",
   "metadata": {},
   "source": [
    "### Git Branch merge\n",
    "\n",
    "go to master branch \n",
    "\n",
    "`git checkout master`\n",
    "\n",
    "now merge master with the branch you were working on:  \n",
    "`git merge branch`\n",
    "\n",
    "the branch came driectly from the master and now they have been merged again,  \n",
    "there is therefore no reason to keep the old branch anymore\n",
    "so delete the branch \n",
    "\n",
    "`git branch -d <branch>`\n",
    "\n"
   ]
  },
  {
   "cell_type": "markdown",
   "metadata": {},
   "source": []
  }
 ],
 "metadata": {
  "kernelspec": {
   "display_name": "Python 3.8.3 ('ikigai')",
   "language": "python",
   "name": "python3"
  },
  "language_info": {
   "codemirror_mode": {
    "name": "ipython",
    "version": 3
   },
   "file_extension": ".py",
   "mimetype": "text/x-python",
   "name": "python",
   "nbconvert_exporter": "python",
   "pygments_lexer": "ipython3",
   "version": "3.8.3"
  },
  "orig_nbformat": 4,
  "vscode": {
   "interpreter": {
    "hash": "8838ce26b1796a040d84f47621c2bbe3dd95e4c112c3adeb91c21aa311315448"
   }
  }
 },
 "nbformat": 4,
 "nbformat_minor": 2
}

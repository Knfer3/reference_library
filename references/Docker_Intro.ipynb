{
 "cells": [
  {
   "cell_type": "markdown",
   "metadata": {},
   "source": [
    "# clone the resposity\n",
    "\n",
    "git clone https://github.com/docker/getting-started.git"
   ]
  }
 ],
 "metadata": {
  "kernelspec": {
   "display_name": "Python 3.8.3 ('ikigai')",
   "language": "python",
   "name": "python3"
  },
  "language_info": {
   "name": "python",
   "version": "3.8.3"
  },
  "orig_nbformat": 4,
  "vscode": {
   "interpreter": {
    "hash": "8838ce26b1796a040d84f47621c2bbe3dd95e4c112c3adeb91c21aa311315448"
   }
  }
 },
 "nbformat": 4,
 "nbformat_minor": 2
}

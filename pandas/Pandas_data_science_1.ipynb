{
 "cells": [
  {
   "cell_type": "markdown",
   "metadata": {},
   "source": [
    "# PANDAS\n",
    "\n",
    "##### Why PANDAS?\n",
    "- excel great but pandas has way more available\n",
    "- allows you to use bigger data sets (big data)\n",
    "\n",
    "##### Install\n",
    "\n",
    "- pip install pandas"
   ]
  },
  {
   "cell_type": "code",
   "execution_count": 2,
   "metadata": {},
   "outputs": [],
   "source": [
    "import pandas as pd"
   ]
  },
  {
   "cell_type": "markdown",
   "metadata": {},
   "source": [
    "##### pandas and files\n",
    "pandas functions for different file types"
   ]
  },
  {
   "cell_type": "code",
   "execution_count": 5,
   "metadata": {},
   "outputs": [],
   "source": [
    "\n",
    "# CSV\n",
    "df = pd.read_csv('pokemon_data.csv')\n",
    "\n",
    "# xlxs\n",
    "# df_xlsx = pd.read_excel('pokemon_data.xlxs)\n",
    "\n",
    "# TXT\n",
    "# df_txt = pd.read_csv('pokemon_data.txt', delimiter='\\t')\n",
    "\n",
    "# View the data\n",
    "# print(df)\n",
    "# No print statement needed!!\n",
    "# df\n",
    "\n"
   ]
  },
  {
   "cell_type": "markdown",
   "metadata": {},
   "source": [
    "Reading data in pandas\n"
   ]
  },
  {
   "cell_type": "code",
   "execution_count": 9,
   "metadata": {},
   "outputs": [
    {
     "name": "stdout",
     "output_type": "stream",
     "text": [
      "Jigglypuff\n"
     ]
    }
   ],
   "source": [
    "# read headers\n",
    "# df.columns\n",
    "\n",
    "# read each column\n",
    "# df['Name']\n",
    "# print(df[['Name','Type 1', 'HP']])\n",
    "\n",
    "# read each row\n",
    "# print(df.head(4))\n",
    "# print(df.iloc[1])\n",
    "# print(df.iloc[1:4])\n",
    "# print(poke.head(5))\n",
    "# print(poke.tail(5))\n",
    "\n",
    "# Read a specific location (R,C)\n",
    "# print(df.iloc[44,1])\n",
    "# Read specific data on dataset\n",
    "# df.loc[df['Generation']==1]\n",
    "# df.loc[df['Type 1'] == 'Grass']\n",
    "\n",
    "# iterate through rows of data\n",
    "# for index, row in df.iterrows():\n",
    "    # print(index,row)\n",
    "    # to iter and get row info\n",
    "    # print(index, row['Name'])"
   ]
  },
  {
   "cell_type": "markdown",
   "metadata": {},
   "source": [
    "##### Sorting/Describing Data"
   ]
  },
  {
   "cell_type": "code",
   "execution_count": 11,
   "metadata": {},
   "outputs": [],
   "source": [
    "#count | mean | std | min | 25% | 50% | 75% | max \n",
    "# df.describe()\n",
    "\n",
    "# sort\n",
    "# df.sort_index()\n",
    "# df.sort_values('Name', ascending=False)\n",
    "# df.sort_values(['Type 1','HP'], ascending=[0,1])"
   ]
  },
  {
   "cell_type": "markdown",
   "metadata": {},
   "source": [
    "##### Make changes to the data"
   ]
  },
  {
   "cell_type": "code",
   "execution_count": 160,
   "metadata": {},
   "outputs": [],
   "source": [
    "# Add Column new column \n",
    "# 1.\n",
    "# df['Total'] = df['HP'] + df['Attack'] + df['Defense'] + df['Sp. Atk'] + df['Sp. Def'] + df['Speed']\n",
    "# 2.\n",
    "# df['Total'] = df.iloc[:,4:10].sum(axis=1)\n",
    "    # iloc[:,4:9] - explanation\n",
    "    # [: <-] all rows\n",
    "    # [:, 4:9 <-] column 4 through 9 (excludes  column 9, change to 10 to include 9)\n",
    "    # .sum(axis=1) - axis=1 add horizontally, axis=0 add vertically\n",
    "\n",
    "\n",
    "\n",
    "# Dataframe \"Total\" is now in memory - so to get remove \n",
    "# df = df.drop(columns=['Total'])\n",
    "\n",
    "# df.head(5)"
   ]
  },
  {
   "cell_type": "markdown",
   "metadata": {},
   "source": [
    "##### Reorder dataframe\n",
    "assumes: column ['Total'] has been added to df"
   ]
  },
  {
   "cell_type": "code",
   "execution_count": 159,
   "metadata": {},
   "outputs": [],
   "source": [
    "# creates a list of all the columns\n",
    "# cols = list(df.columns.values)\n",
    "# Moving \"TOTAL\" from the end to the 5th index position\n",
    "# df = df[cols[0:4] + [cols[-1]] + cols[4:12]]\n",
    "    # [cols[-1]] - without list encapsulating, will be a string, will raise an error\n",
    "\n",
    "# WORD OF CAUTION: referencing columns as indexes can be problematic if the data changes, columns might change \n",
    "# df.head(5)"
   ]
  },
  {
   "cell_type": "markdown",
   "metadata": {},
   "source": [
    "##### Saving Data (Exporting into desired Format)"
   ]
  },
  {
   "cell_type": "code",
   "execution_count": 158,
   "metadata": {},
   "outputs": [],
   "source": [
    "# Saves a new csv file, in current directory\n",
    "# df.to_csv('poke_modified.csv')\n",
    "# To Save the Data without the index\n",
    "# df.to_csv('poke_modified.csv', index=False)\n",
    "\n",
    "# Save to excel\n",
    "# df.to_excel('poke_modified.xlsx', index=False)\n",
    "\n",
    "# Save as tab seperated file\n",
    "# df.to_csv('poke_modified.txt',index=False, sep='\\t')\n"
   ]
  },
  {
   "cell_type": "markdown",
   "metadata": {},
   "source": [
    "##### Filtering Data"
   ]
  },
  {
   "cell_type": "code",
   "execution_count": 157,
   "metadata": {},
   "outputs": [],
   "source": [
    "# df.loc[(df['Type 1'] == 'Grass') & (df['Type 2'] == \"Poison\")]\n",
    "    # filtering multiple fields, you need to separate each statement by ()\n",
    "    #  using and in pandas = & not and \n",
    "    #  using or in pandas = | not or\n",
    "    # also includes all conditions < > \n",
    "\n",
    "\n",
    "# add to new variable \n",
    "# new_df = df.loc[(df['Type 1'] == 'Grass') & (df['Type 2'] == \"Poison\")]\n",
    "    # Will still have the old index numbers - to change \n",
    "# new_df = new_df.reset_index()\n",
    "\n",
    "# String contains \n",
    "# df.loc[df[\"Name\"].str.contains(\"Mega\")]\n",
    "# Reverse string contains - takes items that contains out of df\n",
    "# df.loc[~df[\"Name\"].str.contains(\"Mega\")]\n",
    "# filtering can also use regex expressions\n",
    "# import re\n",
    "# df.loc[df[\"Type 1\"].str.contains(\"Fire|grass\", flags=re.I , regex=True)]\n",
    "    #  regex = True - allows regular expressions\n",
    "    # flags=re.I - regex expression to ignore capitalization\n",
    "# df.loc[df[\"Name\"].str.contains(\"^pi[a-z]*\", flags=re.I , regex=True)]\n",
    "    #  pi[a-z]* - starts with pi, followed by any letters a-z,\n",
    "    #  * = zero or more\n",
    "    #  ^ - startswith"
   ]
  },
  {
   "cell_type": "markdown",
   "metadata": {},
   "source": [
    "##### Conditional Changes"
   ]
  },
  {
   "cell_type": "code",
   "execution_count": 134,
   "metadata": {},
   "outputs": [],
   "source": [
    "# Change a value in data set\n",
    "# example change Type 1 Fire to Flamer\n",
    "# df.loc[df['Type 1']== 'Fire', \"Type 1\"] = \"Flamer\"\n",
    "# Changing it back to Fire\n",
    "# df.loc[df['Type 1']== 'Flamer', \"Type 1\"] = \"Fire\"\n",
    "# can use one condition to change other aspects of data\n",
    "# example change all fire Pokemon to Legendary\n",
    "# df.loc[df['Type 1']== 'Fire', \"Legendary\"] = True\n",
    "\n",
    "# Multiple columns can be changed at once\n",
    "# df.loc[df['Total'] > 500, ['Generation', 'Legendary']] = \"TEST VALUE\"\n",
    "# df.loc[df['Total'] > 500, ['Generation', 'Legendary']] = [\"TEST VALUE\", 'CHange legendary status' to]\n",
    "\n",
    "\n",
    "# df"
   ]
  },
  {
   "cell_type": "markdown",
   "metadata": {},
   "source": [
    "##### Aggregate Statistics (Groupby)"
   ]
  },
  {
   "cell_type": "code",
   "execution_count": 156,
   "metadata": {},
   "outputs": [],
   "source": [
    "# The Mean grouped by Type 1\n",
    "# df.groupby([\"Type 1\"]).mean()\n",
    "# df.groupby([\"Type 1\"]).mean().sort_values('Defense', ascending=False)\n",
    "# df.groupby([\"Type 1\"]).mean().sort_values('Attack', ascending=False)\n",
    "# Mean, sum, count\n",
    "\n",
    "# df.groupby(['Type 1']).sum()\n",
    "\n",
    "# df.groupby(['Type 1']).count()\n",
    "# df.groupby(['Type 1']).count()['Attack']\n",
    "# df.groupby(['Type 1', 'Type 2']).count()['HP'] ??\n",
    "\n",
    "\n"
   ]
  },
  {
   "cell_type": "code",
   "execution_count": null,
   "metadata": {},
   "outputs": [],
   "source": []
  }
 ],
 "metadata": {
  "kernelspec": {
   "display_name": "Python 3.8.3 ('ikigai')",
   "language": "python",
   "name": "python3"
  },
  "language_info": {
   "codemirror_mode": {
    "name": "ipython",
    "version": 3
   },
   "file_extension": ".py",
   "mimetype": "text/x-python",
   "name": "python",
   "nbconvert_exporter": "python",
   "pygments_lexer": "ipython3",
   "version": "3.8.3"
  },
  "orig_nbformat": 4,
  "vscode": {
   "interpreter": {
    "hash": "8838ce26b1796a040d84f47621c2bbe3dd95e4c112c3adeb91c21aa311315448"
   }
  }
 },
 "nbformat": 4,
 "nbformat_minor": 2
}

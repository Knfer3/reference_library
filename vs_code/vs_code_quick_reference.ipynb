{
 "cells": [
  {
   "cell_type": "markdown",
   "metadata": {},
   "source": [
    "### Toggle line numbers in Juypter\n",
    "\n",
    "`l` or `shift + l` "
   ]
  },
  {
   "cell_type": "markdown",
   "metadata": {},
   "source": [
    "### Keyboard shortcuts\n",
    "\n",
    "Open Keyboard shortcuts  \n",
    "`cntrl + k` `cntrl + s`  \n",
    "  \n",
    "  \n",
    " Open settings  \n",
    " `cntrl + ,` \n",
    "\n"
   ]
  },
  {
   "cell_type": "markdown",
   "metadata": {},
   "source": [
    "### Scroll through tabs  \n",
    "  \n",
    "`cntrl + pgUp`  \n",
    "`cntrl + pgDown`"
   ]
  },
  {
   "cell_type": "markdown",
   "metadata": {},
   "source": [
    "### File explorer  \n",
    "  \n",
    "`cntrl + shift + e`"
   ]
  },
  {
   "cell_type": "markdown",
   "metadata": {},
   "source": [
    "### Search tab  \n",
    "  \n",
    "`cntrl + shift + f`"
   ]
  },
  {
   "cell_type": "markdown",
   "metadata": {},
   "source": [
    "### Toggle side bar\n",
    "\n",
    "`cntrl + B`"
   ]
  },
  {
   "cell_type": "markdown",
   "metadata": {},
   "source": [
    "### Open File explorer (settings)\n",
    "\n",
    "`ALT`"
   ]
  },
  {
   "cell_type": "markdown",
   "metadata": {},
   "source": [
    "### Open file into split screen\n",
    "from File explorer\n",
    "\n",
    "`cntrl + enter`"
   ]
  },
  {
   "cell_type": "markdown",
   "metadata": {},
   "source": [
    "### Toggle between editor groups\n",
    "\n",
    "`cntrl + 1`  \n",
    "etc"
   ]
  },
  {
   "cell_type": "markdown",
   "metadata": {},
   "source": [
    "### Close Tab\n",
    "\n",
    "Close active tab  \n",
    "`cntrl + W`  \n",
    "  \n",
    "Close all editors in editor group  \n",
    "`cntrl + K W`  \n",
    "  \n",
    "Close all editors  \n",
    "`cntrl + k` `cntrl + w`"
   ]
  },
  {
   "cell_type": "markdown",
   "metadata": {},
   "source": []
  }
 ],
 "metadata": {
  "kernelspec": {
   "display_name": "Python 3.8.3 ('ikigai')",
   "language": "python",
   "name": "python3"
  },
  "language_info": {
   "name": "python",
   "version": "3.8.3"
  },
  "orig_nbformat": 4,
  "vscode": {
   "interpreter": {
    "hash": "8838ce26b1796a040d84f47621c2bbe3dd95e4c112c3adeb91c21aa311315448"
   }
  }
 },
 "nbformat": 4,
 "nbformat_minor": 2
}

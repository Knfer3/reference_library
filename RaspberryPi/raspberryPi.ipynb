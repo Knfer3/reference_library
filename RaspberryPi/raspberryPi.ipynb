{
 "cells": [
  {
   "attachments": {},
   "cell_type": "markdown",
   "metadata": {},
   "source": [
    "### Lets make some Pi\n",
    "\n",
    "Yay, after many years of admiration, i took the plunge and bought a Raspberry Pi.  \n",
    "Now, i suppose i have to learn a thing or 2 to do with it.  \n"
   ]
  },
  {
   "attachments": {},
   "cell_type": "markdown",
   "metadata": {},
   "source": [
    "### Some Linux commands\n",
    "\n",
    "`df -h` - System space\n",
    " \n",
    "`sudo apt-gt upgrade` - update the sytem  \n",
    "  \n",
    "`sudo shutdown -h now` - Shut down pi now, change `-h` to time or minutes  \n",
    "  \n",
    "`scp <source> <user@destination: path/to/file>` - copy file from one pc via SSH  \n",
    "  \n",
    "`ifconfig`  \n",
    "The ifconfig function displays the current configuration for a network interface when no optional parameters are supplied. If a protocol family is specified, ifconfig reports only the details specific to that protocol family. Only a super user can modify the configuration of a network interface.  \n",
    "  \n",
    "`sudo apt-get update`  \n",
    "update the system  \n",
    "  \n",
    "`sudo apt-get install apache2 -y`  \n",
    "Installs the apache2 files, -y switch automatically answers yes to the questions, instead of manually doing so.  \n",
    "  \n",
    "`sudo reboot`  \n",
    "reboot the device\n"
   ]
  },
  {
   "attachments": {},
   "cell_type": "markdown",
   "metadata": {},
   "source": [
    "### Creating a Static IP  \n",
    "  \n",
    "[Make static IP address](https://www.makeuseof.com/raspberry-pi-set-static-ip/)\n",
    "  \n",
    "Get ip address:  \n",
    "`hostname -I`  \n",
    "  \n",
    "get routers gateway IP address - the one used to contact it on the local network  \n",
    "`ip r |grep default`\n",
    "\n",
    "To find DNS IP address  \n",
    "`sudo nano /etc/resolv.conf`  \n",
    "`cntrl+x` to exit nano  \n",
    "  \n",
    "edit config file to set a static IP  \n",
    "`sudo nano /etc/dhcpcd.conf`  \n",
    "  \n",
    "add to the bottom of the file:  \n",
    "```\n",
    "interface <strong>NETWORK</strong> \n",
    "static ip_address=<strong>STATIC_IP</strong>/24\n",
    "static routers=<strong>ROUTER_IP</strong> \n",
    "static domain_name_servers=<strong>DNS_IP</strong>\n",
    "```  \n",
    "  \n",
    "Pi settings\n",
    "```\n",
    "interface wlan0\n",
    "static ip_address=10.0.14.105/24\n",
    "static routers=10.0.14.254\n",
    "static domain_name_servers=10.0.14.254\n",
    "```\n",
    "\n",
    "reboot device  \n",
    "`sudo reboot`  \n",
    "settings are now in effect\n"
   ]
  },
  {
   "attachments": {},
   "cell_type": "markdown",
   "metadata": {},
   "source": [
    "### SSH into PI"
   ]
  },
  {
   "attachments": {},
   "cell_type": "markdown",
   "metadata": {},
   "source": [
    "Pi IP address:  \n",
    "`hostname -I`\n",
    "\n",
    "Connect to Pi:  \n",
    "`ssh <pi username>@<IP address>`  \n",
    "Example:  \n",
    "`ssh knfer-pi@10.0.14.105`\n",
    "  \n",
    "If connection is refused, check if Pi has SSH enabled.   \n",
    "`sudo raspi-config`  \n",
    "- Interface options  \n",
    "- enable SSH    \n",
    "  \n",
    "Disconnect:  \n",
    "`exit`"
   ]
  },
  {
   "attachments": {},
   "cell_type": "markdown",
   "metadata": {},
   "source": [
    "### Nginx Web server\n",
    "\n",
    "[Nginx](https://thepi.io/how-to-set-up-a-web-server-on-the-raspberry-pi/)"
   ]
  },
  {
   "attachments": {},
   "cell_type": "markdown",
   "metadata": {},
   "source": [
    "### Postgres on Pi\n",
    "\n",
    "[setup postgres on Pi](https://pimylifeup.com/raspberry-pi-postgresql/)"
   ]
  },
  {
   "attachments": {},
   "cell_type": "markdown",
   "metadata": {},
   "source": [
    "### Serve Django app on Apache\n",
    "  \n",
    "[Django on Pi](https://www.digitalocean.com/community/tutorials/how-to-serve-django-applications-with-apache-and-mod_wsgi-on-ubuntu-14-04)\n",
    "  \n",
    "Apache configtest - tests that settings are correct  \n",
    "`sudo apachectl configtest`\n",
    "  \n",
    "Apache2 Logs  \n",
    "`/var/log/apache2/error.log `"
   ]
  },
  {
   "cell_type": "code",
   "execution_count": null,
   "metadata": {},
   "outputs": [],
   "source": []
  },
  {
   "cell_type": "markdown",
   "metadata": {},
   "source": []
  },
  {
   "cell_type": "markdown",
   "metadata": {},
   "source": []
  }
 ],
 "metadata": {
  "kernelspec": {
   "display_name": "ikigai",
   "language": "python",
   "name": "python3"
  },
  "language_info": {
   "codemirror_mode": {
    "name": "ipython",
    "version": 3
   },
   "file_extension": ".py",
   "mimetype": "text/x-python",
   "name": "python",
   "nbconvert_exporter": "python",
   "pygments_lexer": "ipython3",
   "version": "3.8.3 (default, Jul  2 2020, 17:30:36) [MSC v.1916 64 bit (AMD64)]"
  },
  "orig_nbformat": 4,
  "vscode": {
   "interpreter": {
    "hash": "8838ce26b1796a040d84f47621c2bbe3dd95e4c112c3adeb91c21aa311315448"
   }
  }
 },
 "nbformat": 4,
 "nbformat_minor": 2
}

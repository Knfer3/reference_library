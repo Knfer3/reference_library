{
 "cells": [
  {
   "attachments": {},
   "cell_type": "markdown",
   "metadata": {},
   "source": [
    "### Custom Tkinter\n",
    "\n",
    "- Modernised GUI interface\n",
    "- based on tkinter\n",
    "\n"
   ]
  },
  {
   "cell_type": "markdown",
   "metadata": {},
   "source": [
    "##### Basic GUI"
   ]
  },
  {
   "cell_type": "code",
   "execution_count": 1,
   "metadata": {},
   "outputs": [],
   "source": [
    "import customtkinter\n",
    "from PIL import Image\n",
    "import pandas as pd\n",
    "\n",
    "\n"
   ]
  },
  {
   "cell_type": "code",
   "execution_count": 35,
   "metadata": {},
   "outputs": [],
   "source": [
    "\n",
    "customtkinter.set_appearance_mode('light')\n",
    "customtkinter.set_default_color_theme('dark-blue')\n",
    "\n",
    "root = customtkinter.CTk()\n",
    "root.geometry(\"500x350)\")\n",
    "root.title(\"Example\")\n",
    "\n",
    "def login():\n",
    "    print('Test')\n",
    "\n",
    "my_image = customtkinter.CTkImage(light_image=Image.open(\"login.png\"),\n",
    "                                  dark_image=Image.open(\"login.png\"),\n",
    "                                  size=(30, 30))\n",
    "\n",
    "\n",
    "\n",
    "frame = customtkinter.CTkFrame(master=root)\n",
    "frame.pack(pady=20, padx=60, fill='both',expand=True,)\n",
    "\n",
    "# button = customtkinter.CTkButton(master=frame, )\n",
    "\n",
    "label = customtkinter.CTkLabel(master=frame,text='Login System',)\n",
    "label.pack(pady=12,padx=10)\n",
    "\n",
    "entry1= customtkinter.CTkEntry(master=frame, placeholder_text=\"Username\")\n",
    "entry1.pack(pady=12,padx=10)\n",
    "\n",
    "entry2 = customtkinter.CTkEntry(master=frame, placeholder_text=\"Password\", show=\"*\")\n",
    "entry2.pack(pady=12,padx=10)\n",
    "\n",
    "button = customtkinter.CTkButton(master=frame, command=login, text=\"\" ,image=my_image) #command: add logic here, add an image\n",
    "button.pack(pady=12,padx=10)\n",
    "\n",
    "checkbox = customtkinter.CTkCheckBox(master=frame,text='Remember Me')\n",
    "checkbox.pack(pady=12,padx=10)\n",
    "     \n",
    "root.mainloop()\n",
    "\n"
   ]
  },
  {
   "attachments": {},
   "cell_type": "markdown",
   "metadata": {},
   "source": [
    "##### Minimal onefile example app with `.pack()`"
   ]
  },
  {
   "cell_type": "code",
   "execution_count": null,
   "metadata": {},
   "outputs": [],
   "source": [
    "import customtkinter\n",
    "\n",
    "\n",
    "class App(customtkinter.CTk):\n",
    "    def __init__(self):\n",
    "        super().__init__()\n",
    "\n",
    "        self.title(\"minimal example app\")\n",
    "        self.minsize(400, 300)\n",
    "\n",
    "        self.button = customtkinter.CTkButton(master=self, command=self.button_callback)\n",
    "        self.button.pack(padx=20, pady=20)\n",
    "\n",
    "    def button_callback(self):\n",
    "        print(\"button pressed\")\n",
    "\n",
    "\n",
    "if __name__ == \"__main__\":\n",
    "    app = App()\n",
    "    app.mainloop()"
   ]
  },
  {
   "attachments": {},
   "cell_type": "markdown",
   "metadata": {},
   "source": [
    "### Small onefile example app with `.grid()`"
   ]
  },
  {
   "cell_type": "code",
   "execution_count": null,
   "metadata": {},
   "outputs": [],
   "source": [
    "import customtkinter\n",
    "\n",
    "\n",
    "class App(customtkinter.CTk):\n",
    "    def __init__(self):\n",
    "        super().__init__()\n",
    "\n",
    "        self.geometry(\"500x300\")\n",
    "        self.title(\"small example app\")\n",
    "        self.minsize(300, 200)\n",
    "\n",
    "        # create 2x2 grid system\n",
    "        self.grid_rowconfigure(0, weight=1)\n",
    "        self.grid_columnconfigure((0, 1), weight=1)\n",
    "\n",
    "        self.textbox = customtkinter.CTkTextbox(master=self)\n",
    "        self.textbox.grid(row=0, column=0, columnspan=2, padx=20, pady=(20, 0), sticky=\"nsew\")\n",
    "\n",
    "        self.combobox = customtkinter.CTkComboBox(master=self, values=[\"Sample text 1\", \"Text 2\"])\n",
    "        self.combobox.grid(row=1, column=0, padx=20, pady=20, sticky=\"ew\")\n",
    "        self.button = customtkinter.CTkButton(master=self, command=self.button_callback, text=\"Insert Text\")\n",
    "        self.button.grid(row=1, column=1, padx=20, pady=20, sticky=\"ew\")\n",
    "\n",
    "    def button_callback(self):\n",
    "        self.textbox.insert(\"insert\", self.combobox.get() + \"\\n\")\n",
    "\n",
    "\n",
    "if __name__ == \"__main__\":\n",
    "    app = App()\n",
    "    app.mainloop()"
   ]
  },
  {
   "cell_type": "code",
   "execution_count": 33,
   "metadata": {},
   "outputs": [],
   "source": [
    "dict = {}\n",
    "details = [ {\"Index\":index, 'Function':i, \"Docstr\":repr(i)}for index, i in enumerate(dir(customtkinter))]\n",
    "\n",
    "# print(details)\n",
    "CTk_functions = pd.DataFrame(details)\n",
    "\n",
    "CTk_functions.to_excel(\"CTk_Functions.xlsx\")\n"
   ]
  },
  {
   "cell_type": "code",
   "execution_count": null,
   "metadata": {},
   "outputs": [],
   "source": [
    "help_details = help(customtkinter)"
   ]
  },
  {
   "cell_type": "code",
   "execution_count": null,
   "metadata": {},
   "outputs": [],
   "source": []
  }
 ],
 "metadata": {
  "kernelspec": {
   "display_name": "lib_env",
   "language": "python",
   "name": "python3"
  },
  "language_info": {
   "codemirror_mode": {
    "name": "ipython",
    "version": 3
   },
   "file_extension": ".py",
   "mimetype": "text/x-python",
   "name": "python",
   "nbconvert_exporter": "python",
   "pygments_lexer": "ipython3",
   "version": "3.9.6"
  },
  "orig_nbformat": 4,
  "vscode": {
   "interpreter": {
    "hash": "478cc61aca76ea3a68bf9b73cb9863f03a5aef032dfce46b4b888bba5809bfc0"
   }
  }
 },
 "nbformat": 4,
 "nbformat_minor": 2
}

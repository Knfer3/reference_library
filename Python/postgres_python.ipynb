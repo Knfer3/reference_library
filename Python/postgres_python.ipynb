{
 "cells": [
  {
   "cell_type": "markdown",
   "metadata": {},
   "source": [
    "### How to make a new connection to a postgresql database"
   ]
  },
  {
   "cell_type": "markdown",
   "metadata": {},
   "source": [
    "1. Install `pip install psycopg2`"
   ]
  },
  {
   "cell_type": "markdown",
   "metadata": {},
   "source": [
    "### Create new database\n",
    "`CREATE DATABASE suppliers;`"
   ]
  },
  {
   "cell_type": "markdown",
   "metadata": {},
   "source": [
    "### Connect to postgresql using psycopg2\n",
    "\n",
    "`conn = psycopg2.connect(\"dbname=suppliers user=postgres password=postgres\")\n",
    "Code language: SQL (Structured Query Language) (sql)`\n",
    "\n",
    "Or you can use a list of keyword arguments:\n",
    "\n",
    "`conn = psycopg2.connect(  `\n",
    "    `host=\"localhost\",  `\n",
    "    `database=\"suppliers\",  `\n",
    "    `user=\"postgres\",  `\n",
    "    `password=\"Abcd1234\")  `\n",
    "\n",
    "The following is the list of the connection parameters:\n",
    "\n",
    "    `database`: the name of the database that you want to connect.\n",
    "    `user`: the username used to authenticate.\n",
    "    `password`: password used to authenticate.\n",
    "    `host`: database server address e.g., localhost or an IP address.\n",
    "    `port`: the port number that defaults to 5432 if it is not provided."
   ]
  },
  {
   "cell_type": "markdown",
   "metadata": {},
   "source": [
    "##### To make it more convenient, you can use a configuration file to store all connection parameters.\n",
    "\n",
    "The following shows the contents of the database.ini file:\n",
    "\n",
    "`[postgresql]`  \n",
    "`host=localhost`  \n",
    "`database=suppliers`  \n",
    "`user=postgres`  \n",
    "`password=SecurePas$1`  \n",
    "`Code language: Shell Session (shell)`  \n",
    "\n",
    "By using the `database.ini`, you can change the `PostgreSQL` connection parameters when you move the code to the production environment without modifying the code.\n",
    "\n",
    "Notice that if you `git`, you need to add the `database.ini` to the `.gitignore` file to not committing the sensitive information to the public repo like github"
   ]
  },
  {
   "cell_type": "markdown",
   "metadata": {},
   "source": [
    "The following `Config()` function read the `database.ini` file and returns connection parameters. The `config()` function is placed in the `config.py` file:"
   ]
  },
  {
   "cell_type": "code",
   "execution_count": 1,
   "metadata": {},
   "outputs": [],
   "source": [
    "from configparser import ConfigParser\n",
    "\n",
    "\n",
    "def config(filename='database.ini', section='postgresql'):\n",
    "    # create a parser\n",
    "    parser = ConfigParser()\n",
    "    # read config file\n",
    "    parser.read(filename)\n",
    "\n",
    "# get section, default to postgresql\n",
    "    db = {}\n",
    "    if parser.has_section(section):\n",
    "        params = parser.items(section)\n",
    "        for param in params:\n",
    "            db[param[0]] = param[1]\n",
    "    else:\n",
    "        raise Exception('Section {0} not found in the {1} file'.format(section, filename))\n",
    "\n",
    "    return db\n"
   ]
  },
  {
   "cell_type": "markdown",
   "metadata": {},
   "source": [
    "The following `connect()` function connects to the suppliers database and prints out the PostgreSQL database version."
   ]
  },
  {
   "cell_type": "markdown",
   "metadata": {},
   "source": [
    "import psycopg2\n",
    "from decouple import config\n",
    "\n",
    "def connect():\n",
    "    \"\"\" Connect to the PostgreSQL database server \"\"\"\n",
    "    conn = None\n",
    "    try:\n",
    "        # read connection parameters\n",
    "        params = config()\n",
    "\n",
    "        # connect to the PostgreSQL server\n",
    "        print('Connecting to the PostgreSQL database...')\n",
    "        conn = psycopg2.connect(**params)\n",
    "\t\t\n",
    "        # create a cursor\n",
    "        cur = conn.cursor()\n",
    "        \n",
    "\t# execute a statement\n",
    "        print('PostgreSQL database version:')\n",
    "        cur.execute('SELECT version()')\n",
    "\n",
    "        # display the PostgreSQL database server version\n",
    "        db_version = cur.fetchone()\n",
    "        print(db_version)\n",
    "       \n",
    "\t# close the communication with the PostgreSQL\n",
    "        cur.close()\n",
    "    except (Exception, psycopg2.DatabaseError) as error:\n",
    "        print(error)\n",
    "    finally:\n",
    "        if conn is not None:\n",
    "            conn.close()\n",
    "            print('Database connection closed.')\n",
    "\n",
    "\n",
    "if __name__ == '__main__':\n",
    "    connect()"
   ]
  },
  {
   "cell_type": "code",
   "execution_count": null,
   "metadata": {},
   "outputs": [],
   "source": [
    "import psycopg2\n",
    "from decouple import config\n",
    "\n",
    "\n",
    "\n",
    "def db_connect():\n",
    "    '''Boilerplate, connect to PostgreSQL database'''\n",
    "    conn = None\n",
    "\n",
    "    try:\n",
    "        # Create connection to DB\n",
    "        conn = psycopg2.connect(dbname=config('DATABASE'),\\\n",
    "                                user=config('DB_USER'),\\\n",
    "                                password=config('DB_PASSWORD'),\\\n",
    "                                host=config('HOST'),\\\n",
    "                                port=config('DB_PORT'))\n",
    "\n",
    "        # Create a cursor\n",
    "        cur = conn.cursor()\n",
    "\n",
    "        # EXAMPLE: create SQL scripts with cur.execute(\"\")\n",
    "        # =================================\n",
    "        create_script = '''CREATE TABLE accounts ( \n",
    "            user_id serial PRIMARY KEY,\n",
    "            username VARCHAR ( 50 ) UNIQUE NOT NULL, \n",
    "            password VARCHAR ( 50 ) NOT NULL, \n",
    "            email VARCHAR ( 255 ) UNIQUE NOT NULL, \n",
    "            created_on TIMESTAMP NOT NULL,\n",
    "                last_login TIMESTAMP \n",
    "        );'''\n",
    "        cur.execute(create_script)\n",
    "        print(f'Script has been executed')\n",
    "        # =================================\n",
    "        # # execute a statement\n",
    "        # print('PostgreSQL database version:')\n",
    "        # cur.execute('SELECT version()')\n",
    "\n",
    "        # # display the PostgreSQL database server version\n",
    "        # db_version = cur.fetchone()\n",
    "        # print(db_version)\n",
    "        # =================================\n",
    "        # Close the cursor\n",
    "        cur.close()\n",
    "        conn.commit()\n",
    "\n",
    "    except (Exception, psycopg2.DatabaseError) as error:\n",
    "        print(error)\n",
    "    finally:\n",
    "        # Close connection to DB\n",
    "        if conn is not None:\n",
    "            conn.close()\n",
    "            print(f'The connection to DB is closed')\n",
    "\n",
    "if __name__ == \"__main__\":\n",
    "    db_connect()"
   ]
  },
  {
   "cell_type": "code",
   "execution_count": null,
   "metadata": {},
   "outputs": [],
   "source": []
  },
  {
   "cell_type": "code",
   "execution_count": null,
   "metadata": {},
   "outputs": [],
   "source": []
  }
 ],
 "metadata": {
  "kernelspec": {
   "display_name": "lib_env",
   "language": "python",
   "name": "python3"
  },
  "language_info": {
   "codemirror_mode": {
    "name": "ipython",
    "version": 3
   },
   "file_extension": ".py",
   "mimetype": "text/x-python",
   "name": "python",
   "nbconvert_exporter": "python",
   "pygments_lexer": "ipython3",
   "version": "3.9.6 (tags/v3.9.6:db3ff76, Jun 28 2021, 15:26:21) [MSC v.1929 64 bit (AMD64)]"
  },
  "orig_nbformat": 4,
  "vscode": {
   "interpreter": {
    "hash": "478cc61aca76ea3a68bf9b73cb9863f03a5aef032dfce46b4b888bba5809bfc0"
   }
  }
 },
 "nbformat": 4,
 "nbformat_minor": 2
}

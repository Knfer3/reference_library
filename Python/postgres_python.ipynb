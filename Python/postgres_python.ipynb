{
 "cells": [
  {
   "cell_type": "markdown",
   "metadata": {},
   "source": [
    "### How to make a new connection to a postgresql database"
   ]
  },
  {
   "cell_type": "markdown",
   "metadata": {},
   "source": [
    "1. Install `pip install psycopg2`"
   ]
  },
  {
   "cell_type": "markdown",
   "metadata": {},
   "source": [
    "### Create new database\n",
    "`CREATE DATABASE suppliers;`"
   ]
  },
  {
   "cell_type": "markdown",
   "metadata": {},
   "source": [
    "### Connect to postgresql using psycopg2\n",
    "\n",
    "`conn = psycopg2.connect(\"dbname=suppliers user=postgres password=postgres\")\n",
    "Code language: SQL (Structured Query Language) (sql)`\n",
    "\n",
    "Or you can use a list of keyword arguments:\n",
    "\n",
    "`conn = psycopg2.connect(  `\n",
    "    `host=\"localhost\",  `\n",
    "    `database=\"suppliers\",  `\n",
    "    `user=\"postgres\",  `\n",
    "    `password=\"Abcd1234\")  `\n",
    "\n",
    "The following is the list of the connection parameters:\n",
    "\n",
    "    `database`: the name of the database that you want to connect.\n",
    "    `user`: the username used to authenticate.\n",
    "    `password`: password used to authenticate.\n",
    "    `host`: database server address e.g., localhost or an IP address.\n",
    "    `port`: the port number that defaults to 5432 if it is not provided."
   ]
  },
  {
   "cell_type": "markdown",
   "metadata": {},
   "source": [
    "##### To make it more convenient, you can use a configuration file to store all connection parameters.\n",
    "\n",
    "The following shows the contents of the database.ini file:\n",
    "\n",
    "`[postgresql]`  \n",
    "`host=localhost`  \n",
    "`database=suppliers`  \n",
    "`user=postgres`  \n",
    "`password=SecurePas$1`  \n",
    "`Code language: Shell Session (shell)`  \n",
    "\n",
    "By using the `database.ini`, you can change the `PostgreSQL` connection parameters when you move the code to the production environment without modifying the code.\n",
    "\n",
    "Notice that if you `git`, you need to add the `database.ini` to the `.gitignore` file to not committing the sensitive information to the public repo like github"
   ]
  },
  {
   "cell_type": "markdown",
   "metadata": {},
   "source": [
    "The following `Config()` function read the `database.ini` file and returns connection parameters. The `config()` function is placed in the `config.py` file:"
   ]
  },
  {
   "cell_type": "markdown",
   "metadata": {},
   "source": [
    "    from configparser import ConfigParser\n",
    "\n",
    "\n",
    "    def config(filename='database.ini', section='postgresql'):\n",
    "        # create a parser\n",
    "        parser = ConfigParser()\n",
    "        # read config file\n",
    "        parser.read(filename)\n",
    "\n",
    "    # get section, default to postgresql\n",
    "    db = {}\n",
    "    if parser.has_section(section):\n",
    "        params = parser.items(section)\n",
    "        for param in params:\n",
    "            db[param[0]] = param[1]\n",
    "    else:\n",
    "        raise Exception('Section {0} not found in the {1} file'.format(section, filename))\n",
    "\n",
    "    return db\n"
   ]
  },
  {
   "cell_type": "markdown",
   "metadata": {},
   "source": [
    "The following `connect()` function connects to the suppliers database and prints out the PostgreSQL database version."
   ]
  },
  {
   "cell_type": "markdown",
   "metadata": {},
   "source": [
    "import psycopg2\n",
    "from config import config\n",
    "\n",
    "def connect():\n",
    "    \"\"\" Connect to the PostgreSQL database server \"\"\"\n",
    "    conn = None\n",
    "    try:\n",
    "        # read connection parameters\n",
    "        params = config()\n",
    "\n",
    "        # connect to the PostgreSQL server\n",
    "        print('Connecting to the PostgreSQL database...')\n",
    "        conn = psycopg2.connect(**params)\n",
    "\t\t\n",
    "        # create a cursor\n",
    "        cur = conn.cursor()\n",
    "        \n",
    "\t# execute a statement\n",
    "        print('PostgreSQL database version:')\n",
    "        cur.execute('SELECT version()')\n",
    "\n",
    "        # display the PostgreSQL database server version\n",
    "        db_version = cur.fetchone()\n",
    "        print(db_version)\n",
    "       \n",
    "\t# close the communication with the PostgreSQL\n",
    "        cur.close()\n",
    "    except (Exception, psycopg2.DatabaseError) as error:\n",
    "        print(error)\n",
    "    finally:\n",
    "        if conn is not None:\n",
    "            conn.close()\n",
    "            print('Database connection closed.')\n",
    "\n",
    "\n",
    "if __name__ == '__main__':\n",
    "    connect()"
   ]
  }
 ],
 "metadata": {
  "kernelspec": {
   "display_name": "Python 3.8.3 ('ikigai')",
   "language": "python",
   "name": "python3"
  },
  "language_info": {
   "name": "python",
   "version": "3.8.3"
  },
  "orig_nbformat": 4,
  "vscode": {
   "interpreter": {
    "hash": "8838ce26b1796a040d84f47621c2bbe3dd95e4c112c3adeb91c21aa311315448"
   }
  }
 },
 "nbformat": 4,
 "nbformat_minor": 2
}

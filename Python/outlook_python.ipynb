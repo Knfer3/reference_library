{
 "cells": [
  {
   "attachments": {},
   "cell_type": "markdown",
   "metadata": {},
   "source": [
    "### Get the 10 latest emails from outlook. \n",
    "\n",
    "[win32_Docs]()"
   ]
  },
  {
   "cell_type": "code",
   "execution_count": 1,
   "metadata": {},
   "outputs": [],
   "source": [
    "import win32com.client\n",
    "import pandas as pd\n",
    "\n",
    "outlook = win32com.client.Dispatch(\"Outlook.application\").GetNamespace(\"MAPI\")\n",
    "inbox = outlook.GetDefaultFolder(6)\n",
    "messages = inbox.Items\n",
    "\n",
    "email_limit = 10\n",
    "\n",
    "email_list = [{\"Subject\": str(message.Subject),\\\n",
    "                \"Sender\": str(message.Sender),\\\n",
    "                \"Received_date\": str(message.ReceivedTime.strftime('%d-%m-%y')),\\\n",
    "                # \"Status\": str(message.Unread)\\\n",
    "                } \\\n",
    "                    for index, message in enumerate(messages) if index< email_limit]\n",
    "\n",
    "df = pd.DataFrame(email_list)\n",
    "df.to_excel(\"10_latest_Outlook_emails.xlsx\")\n",
    "# print(messages)\n",
    "# for i in messages:  a\n",
    "#     message=i.subject  \n",
    "#     print(message)\n",
    "\n",
    "# print(message)"
   ]
  },
  {
   "cell_type": "code",
   "execution_count": null,
   "metadata": {},
   "outputs": [],
   "source": []
  },
  {
   "cell_type": "code",
   "execution_count": null,
   "metadata": {},
   "outputs": [],
   "source": []
  }
 ],
 "metadata": {
  "kernelspec": {
   "display_name": "lib_env",
   "language": "python",
   "name": "python3"
  },
  "language_info": {
   "codemirror_mode": {
    "name": "ipython",
    "version": 3
   },
   "file_extension": ".py",
   "mimetype": "text/x-python",
   "name": "python",
   "nbconvert_exporter": "python",
   "pygments_lexer": "ipython3",
   "version": "3.9.6 (tags/v3.9.6:db3ff76, Jun 28 2021, 15:26:21) [MSC v.1929 64 bit (AMD64)]"
  },
  "orig_nbformat": 4,
  "vscode": {
   "interpreter": {
    "hash": "478cc61aca76ea3a68bf9b73cb9863f03a5aef032dfce46b4b888bba5809bfc0"
   }
  }
 },
 "nbformat": 4,
 "nbformat_minor": 2
}

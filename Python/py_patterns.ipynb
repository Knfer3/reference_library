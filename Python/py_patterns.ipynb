{
 "cells": [
  {
   "attachments": {},
   "cell_type": "markdown",
   "metadata": {},
   "source": [
    "### Make some patterns \n",
    "\n",
    "I was scrolling online and  saw a page of different python patterns. So I am going to try conjure a few up from my own head, without a reference. \n",
    "lets see. "
   ]
  },
  {
   "cell_type": "code",
   "execution_count": 16,
   "metadata": {},
   "outputs": [
    {
     "name": "stdout",
     "output_type": "stream",
     "text": [
      "\n",
      "*\n",
      "**\n",
      "***\n",
      "****\n",
      "*****\n",
      "******\n",
      "*******\n",
      "********\n",
      "*********\n"
     ]
    }
   ],
   "source": [
    "def pattern1(loop):\n",
    "    for i in range(loop):\n",
    "        print(\"*\"*i)\n",
    "\n",
    "pattern1(10)"
   ]
  },
  {
   "cell_type": "code",
   "execution_count": 15,
   "metadata": {},
   "outputs": [
    {
     "name": "stdout",
     "output_type": "stream",
     "text": [
      "**********\n",
      " *********\n",
      "  ********\n",
      "   *******\n",
      "    ******\n",
      "     *****\n",
      "      ****\n",
      "       ***\n",
      "        **\n",
      "         *\n"
     ]
    }
   ],
   "source": [
    "def pattern2(loop):\n",
    "    for i in range(loop):\n",
    "        print(\" \"*(i) + \"*\"*(loop-i))\n",
    "\n",
    "pattern2(10)"
   ]
  },
  {
   "cell_type": "code",
   "execution_count": 20,
   "metadata": {},
   "outputs": [
    {
     "name": "stdout",
     "output_type": "stream",
     "text": [
      "\n",
      "*\n",
      "**\n",
      "***\n",
      "****\n",
      "*****\n",
      "      ****\n",
      "       ***\n",
      "        **\n",
      "         *\n",
      "          \n"
     ]
    }
   ],
   "source": [
    "def pattern3(loop):\n",
    "    half_loop = loop//2\n",
    "    for i in range(loop + 1):\n",
    "        if i <= half_loop:\n",
    "            print(\"*\"*i)\n",
    "        else:\n",
    "            print(\" \"*(i) + \"*\"*(loop-i))\n",
    "\n",
    "pattern3(10)"
   ]
  },
  {
   "cell_type": "code",
   "execution_count": 35,
   "metadata": {},
   "outputs": [
    {
     "name": "stdout",
     "output_type": "stream",
     "text": [
      "\n",
      "*\n",
      "**\n",
      "***\n",
      "****\n",
      "*****\n",
      "****\n",
      "***\n",
      "**\n",
      "*\n",
      "\n"
     ]
    }
   ],
   "source": [
    "def pattern4(loop):\n",
    "    half_loop = loop//2\n",
    "\n",
    "    for i in range(loop + 1):\n",
    "        if i == 1 :\n",
    "            print(\"*\")\n",
    "        elif i <= half_loop:\n",
    "                print(\"*\"*i)\n",
    "        else:\n",
    "            print(\"*\"*(loop-i))\n",
    "\n",
    "pattern4(10)"
   ]
  },
  {
   "cell_type": "code",
   "execution_count": 53,
   "metadata": {},
   "outputs": [
    {
     "name": "stdout",
     "output_type": "stream",
     "text": [
      "     \n",
      "    *\n",
      "   **\n",
      "  ***\n",
      " ****\n",
      "*****\n",
      " ****\n",
      "  ***\n",
      "   **\n",
      "    *\n",
      "     \n"
     ]
    }
   ],
   "source": [
    "def pattern5(loop):\n",
    "    half_loop = loop//2\n",
    "\n",
    "    for i in range(loop +1):\n",
    "        if i <= half_loop:\n",
    "            print(\" \"*(half_loop-i) + \"*\"*i)\n",
    "        else:\n",
    "            print(\" \"*(i-half_loop) + \"*\"*(loop-i) )\n",
    "\n",
    "\n",
    "pattern5(10)"
   ]
  },
  {
   "cell_type": "code",
   "execution_count": 58,
   "metadata": {},
   "outputs": [
    {
     "name": "stdout",
     "output_type": "stream",
     "text": [
      "     *\n",
      "    ***\n",
      "   *****\n",
      "  *******\n",
      " *********\n",
      "***********\n",
      " *********\n",
      "  *******\n",
      "   *****\n",
      "    ***\n",
      "     *\n"
     ]
    }
   ],
   "source": [
    "def pattern6(loop):\n",
    "    half_loop = loop//2\n",
    "\n",
    "    for i in range(loop +1):\n",
    "        if i <= half_loop:\n",
    "            print(\" \"*(half_loop-i) + \"*\"*i + \"*\" + \"*\"*i)\n",
    "        else:\n",
    "            print(\" \"*(i-half_loop) + \"*\"*(loop-i) + \"*\" + \"*\"*(loop-i))\n",
    "\n",
    "\n",
    "pattern6(10)"
   ]
  },
  {
   "cell_type": "code",
   "execution_count": 5,
   "metadata": {},
   "outputs": [
    {
     "name": "stdout",
     "output_type": "stream",
     "text": [
      "***** *****\n",
      "****   ****\n",
      "***     ***\n",
      "**       **\n",
      "*         *\n",
      "           \n",
      "*         *\n",
      "**       **\n",
      "***     ***\n",
      "****   ****\n",
      "***** *****\n"
     ]
    }
   ],
   "source": [
    "def pattern7(loop):\n",
    "    half_loop = loop//2\n",
    "\n",
    "    for i in range(loop +1):\n",
    "        if i <= half_loop:\n",
    "            print(\"*\"*(half_loop-i) + \" \"*i + \" \" + \" \"*i + \"*\"*(half_loop-i))\n",
    "        else:\n",
    "            print(\"*\"*(i-half_loop) + \" \"*(loop-i) + \" \" + \" \"*(loop-i)+ \"*\"*(i-half_loop))\n",
    "\n",
    "\n",
    "pattern7(10)"
   ]
  },
  {
   "cell_type": "code",
   "execution_count": 99,
   "metadata": {},
   "outputs": [
    {
     "name": "stdout",
     "output_type": "stream",
     "text": [
      "\n",
      "1\n",
      "22\n",
      "333\n",
      "4444\n",
      "55555\n",
      "666666\n",
      "7777777\n",
      "88888888\n",
      "999999999\n"
     ]
    }
   ],
   "source": [
    "def pattern8(loop):\n",
    "    for i in range(loop):\n",
    "        print(f\"{i}\"*i)\n",
    "\n",
    "\n",
    "\n",
    "pattern8(10)"
   ]
  },
  {
   "cell_type": "code",
   "execution_count": 110,
   "metadata": {},
   "outputs": [
    {
     "ename": "SyntaxError",
     "evalue": "f-string: expecting '}' (1941976387.py, line 2)",
     "output_type": "error",
     "traceback": [
      "\u001b[1;36m  Cell \u001b[1;32mIn[110], line 2\u001b[1;36m\u001b[0m\n\u001b[1;33m    print([f\"{\"*\"*i} + \\n\" for i in range(loop)], sep='')\u001b[0m\n\u001b[1;37m               ^\u001b[0m\n\u001b[1;31mSyntaxError\u001b[0m\u001b[1;31m:\u001b[0m f-string: expecting '}'\n"
     ]
    }
   ],
   "source": [
    "def pattern10(loop):\n",
    "'''\n",
    "observation - cannot embed string inside f string\n",
    "'''\n",
    "\n",
    "    print([f\"{\"*\"*i} + \\n\" for i in range(loop)], sep='')\n",
    "    \n",
    "    \n",
    "pattern10(10)"
   ]
  },
  {
   "cell_type": "code",
   "execution_count": null,
   "metadata": {},
   "outputs": [],
   "source": []
  }
 ],
 "metadata": {
  "kernelspec": {
   "display_name": "lib_env",
   "language": "python",
   "name": "python3"
  },
  "language_info": {
   "codemirror_mode": {
    "name": "ipython",
    "version": 3
   },
   "file_extension": ".py",
   "mimetype": "text/x-python",
   "name": "python",
   "nbconvert_exporter": "python",
   "pygments_lexer": "ipython3",
   "version": "3.9.6 (tags/v3.9.6:db3ff76, Jun 28 2021, 15:26:21) [MSC v.1929 64 bit (AMD64)]"
  },
  "orig_nbformat": 4,
  "vscode": {
   "interpreter": {
    "hash": "478cc61aca76ea3a68bf9b73cb9863f03a5aef032dfce46b4b888bba5809bfc0"
   }
  }
 },
 "nbformat": 4,
 "nbformat_minor": 2
}

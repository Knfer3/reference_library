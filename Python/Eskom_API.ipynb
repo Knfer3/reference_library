{
 "cells": [
  {
   "attachments": {},
   "cell_type": "markdown",
   "metadata": {},
   "source": [
    "### Eskom se Push API\n",
    "\n",
    "Inception of looking at the Eskom se push api.  \n",
    "free version allows 50 requests a day.  \n",
    "[GOAL] is to create a script that can be scheduled to `GET` loadshedding details,  \n",
    "and create a summary of the day and cumulate the loadshedding for the week. \n",
    "\n",
    "\n",
    "- [STACK_how_to_schedule_tasks_in_python](https://stackoverflow.com/questions/15088037/python-script-to-do-something-at-the-same-time-every-day)  \n",
    "- [Datetime timedelta()](https://www.geeksforgeeks.org/python-datetime-timedelta-function/)\n",
    "- [STACK_Structuring_API_Calls](https://stackoverflow.com/questions/48572494/structuring-api-calls-in-python)"
   ]
  },
  {
   "attachments": {},
   "cell_type": "markdown",
   "metadata": {},
   "source": [
    "Below script only works in a .py file. \n",
    "(Casues Kernal to crash)\n",
    "For display purposes only"
   ]
  },
  {
   "cell_type": "code",
   "execution_count": null,
   "metadata": {},
   "outputs": [],
   "source": [
    "import requests\n",
    "from decouple import config\n",
    "\n",
    "esp_token = config('ESP_LICENSE_KEY')\n",
    "url = \"https://developer.sepush.co.za/business/2.0/area?id=eskde-10-fourwaysext10cityofjohannesburggauteng&test=current\"\n",
    "\n",
    "payload={}\n",
    "headers = {'token': esp_token}\n",
    "\n",
    "response = requests.request(\"GET\", url, headers=headers, data=payload)\n",
    "\n",
    "print(response.text)\n"
   ]
  },
  {
   "cell_type": "code",
   "execution_count": null,
   "metadata": {},
   "outputs": [],
   "source": []
  }
 ],
 "metadata": {
  "kernelspec": {
   "display_name": "lib_env",
   "language": "python",
   "name": "python3"
  },
  "language_info": {
   "codemirror_mode": {
    "name": "ipython",
    "version": 3
   },
   "file_extension": ".py",
   "mimetype": "text/x-python",
   "name": "python",
   "nbconvert_exporter": "python",
   "pygments_lexer": "ipython3",
   "version": "3.9.6 (tags/v3.9.6:db3ff76, Jun 28 2021, 15:26:21) [MSC v.1929 64 bit (AMD64)]"
  },
  "orig_nbformat": 4,
  "vscode": {
   "interpreter": {
    "hash": "478cc61aca76ea3a68bf9b73cb9863f03a5aef032dfce46b4b888bba5809bfc0"
   }
  }
 },
 "nbformat": 4,
 "nbformat_minor": 2
}

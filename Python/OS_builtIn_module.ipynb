{
 "cells": [
  {
   "cell_type": "markdown",
   "metadata": {},
   "source": [
    "## Python OS module\n",
    "\n",
    "- This module provides a portable way of using operating system dependent functionality\n",
    "\n"
   ]
  },
  {
   "cell_type": "markdown",
   "metadata": {},
   "source": [
    "### Iterating Over Files in a Directory\n",
    "\n",
    "The first handy function is the `os.walk()` function which returns a generator object that you can iterate over using a `for` loop:"
   ]
  },
  {
   "cell_type": "code",
   "execution_count": 5,
   "metadata": {},
   "outputs": [],
   "source": [
    "import os\n",
    "\n",
    "def os_walk_def():\n",
    "    for root, directories, files in os.walk(\"/\"):\n",
    "        ## print the root of the directory\n",
    "        print(root)\n",
    "        ## print the directories within the root\n",
    "        # print(directories)\n",
    "        ## print the files within the root\n",
    "        # print(files)\n"
   ]
  },
  {
   "cell_type": "markdown",
   "metadata": {},
   "source": [
    "### Creating & Deleting files"
   ]
  },
  {
   "cell_type": "code",
   "execution_count": 22,
   "metadata": {},
   "outputs": [],
   "source": [
    "def create_delete_files():\n",
    "    with open(\"filename.txt\", 'w') as file:\n",
    "        file.write(\"My Certificate for my service\")\n",
    "\n",
    "# NOTE: specify the 2nd parameter, if writing to the file"
   ]
  },
  {
   "cell_type": "code",
   "execution_count": 23,
   "metadata": {},
   "outputs": [],
   "source": [
    "create_delete_files()"
   ]
  },
  {
   "cell_type": "markdown",
   "metadata": {},
   "source": [
    " This `with` keyword in Python is incredibly useful in these scenarios as it allows you to ensure resources are cleaned up after you have finished executing the body of the with statement. This is hugely important as it prevents Python scripts from holding on to files well past when they were meant to."
   ]
  },
  {
   "cell_type": "markdown",
   "metadata": {},
   "source": [
    "### Deleting Files\n",
    "\n",
    "Deleting files can be achieved using either the `os.remove` function or the `os.unlink` function which takes in the path to the file as it’s sole argument:"
   ]
  },
  {
   "cell_type": "code",
   "execution_count": 20,
   "metadata": {},
   "outputs": [],
   "source": [
    "def delete_file():\n",
    "    filepath = \"filename.txt\"\n",
    "    if os.path.isfile(filepath):\n",
    "        os.remove(filepath)\n",
    "    else:\n",
    "        print(\"Error: %s file not found\" % filepath)"
   ]
  },
  {
   "cell_type": "code",
   "execution_count": 21,
   "metadata": {},
   "outputs": [],
   "source": [
    "delete_file()"
   ]
  },
  {
   "cell_type": "markdown",
   "metadata": {},
   "source": [
    "The second option if you need slightly more informed error handling when deleting these files is to wrap the call to os.remove within a try/except block and print out the error:\n",
    "\n"
   ]
  },
  {
   "cell_type": "code",
   "execution_count": 37,
   "metadata": {},
   "outputs": [],
   "source": [
    "import os\n",
    "\n",
    "def delete_file_2():\n",
    "    filepath = \"filename.txt\"\n",
    "    try:\n",
    "        os.remove(filepath)\n",
    "    except OSError as error:\n",
    "        print(error)\n"
   ]
  },
  {
   "cell_type": "code",
   "execution_count": 38,
   "metadata": {},
   "outputs": [
    {
     "name": "stdout",
     "output_type": "stream",
     "text": [
      "[WinError 2] The system cannot find the file specified: 'filename.txt'\n"
     ]
    }
   ],
   "source": [
    "delete_file_2()"
   ]
  },
  {
   "cell_type": "markdown",
   "metadata": {},
   "source": [
    "### Create Directory\n"
   ]
  },
  {
   "cell_type": "code",
   "execution_count": 39,
   "metadata": {},
   "outputs": [],
   "source": [
    "def create_dir():\n",
    "    print(\"Creating tmp directory...\")\n",
    "    os.mkdir(\"tmp\")"
   ]
  },
  {
   "cell_type": "code",
   "execution_count": 40,
   "metadata": {},
   "outputs": [
    {
     "name": "stdout",
     "output_type": "stream",
     "text": [
      "Creating tmp directory...\n"
     ]
    }
   ],
   "source": [
    "create_dir()"
   ]
  },
  {
   "cell_type": "markdown",
   "metadata": {},
   "source": [
    "### Delete Directory\n",
    "\n",
    "For deleting directories, we can leverage the shutil python package which is definitely worth taking a look at as there are a number of incredibly handy functions within that package which make a sysadmin’s life a lot easier.\n",
    "\n",
    "We can leverage the `shutil.rmtree` function which will delete an entire directory tree\n",
    "\n",
    "This will delete everything within /path/to/my/directory and the root folder. Nice and handy if you want to completely clean up a few things floating around!"
   ]
  },
  {
   "cell_type": "code",
   "execution_count": 41,
   "metadata": {},
   "outputs": [],
   "source": [
    "import shutil\n",
    "\n",
    "def rm_tree_shutil():\n",
    "    shutil.rmtree(\"/path/to/my/directory\")\n"
   ]
  },
  {
   "cell_type": "markdown",
   "metadata": {},
   "source": [
    "### Moving Files \n"
   ]
  },
  {
   "cell_type": "code",
   "execution_count": 42,
   "metadata": {},
   "outputs": [],
   "source": [
    "def move_file_shutil():\n",
    "    ## move origin.file to destination.file\n",
    "    shutil.move(\"/path/to/origin.file\", \"/path/to/destination.file\")"
   ]
  },
  {
   "cell_type": "markdown",
   "metadata": {},
   "source": [
    "### Backing up directories"
   ]
  },
  {
   "cell_type": "code",
   "execution_count": 43,
   "metadata": {},
   "outputs": [],
   "source": [
    "\n",
    "def back_up_directory():\n",
    "    ## backup our directory and attempt to preserve metadata on everything we\n",
    "    ## backup by specifying the copy_function\n",
    "    shutil.copytree(\"/path/to/directory\", \"/path/to/backup\", copy_function=copy2)"
   ]
  },
  {
   "cell_type": "markdown",
   "metadata": {},
   "source": [
    "### Looking up IP Addresses"
   ]
  },
  {
   "cell_type": "code",
   "execution_count": 48,
   "metadata": {},
   "outputs": [],
   "source": [
    "import socket\n",
    "\n",
    "def ip_addresses():\n",
    "    hostname = \"tna.sawc.org.za\"\n",
    "    ip_addr = socket.gethostbyname(hostname)\n",
    "    print(ip_addr)\n"
   ]
  },
  {
   "cell_type": "code",
   "execution_count": 49,
   "metadata": {},
   "outputs": [
    {
     "name": "stdout",
     "output_type": "stream",
     "text": [
      "105.243.77.245\n"
     ]
    }
   ],
   "source": [
    "ip_addresses()"
   ]
  },
  {
   "cell_type": "markdown",
   "metadata": {},
   "source": [
    "### Test connectivity\n",
    "\n"
   ]
  },
  {
   "cell_type": "code",
   "execution_count": 54,
   "metadata": {},
   "outputs": [],
   "source": [
    "import socket\n",
    "\n",
    "def test_connection():\n",
    "    s = socket.socket()\n",
    "    address = '127.0.0.1'\n",
    "    port = 8000 \n",
    "    try:\n",
    "        s.connect((address, port))  \n",
    "        print(\"Success\")\n",
    "    except Exception as e: \n",
    "        print(\"something's wrong with %s:%d. Exception is %s\" % (address, port, e))\n",
    "    finally:\n",
    "        s.close()\n"
   ]
  },
  {
   "cell_type": "code",
   "execution_count": 56,
   "metadata": {},
   "outputs": [
    {
     "name": "stdout",
     "output_type": "stream",
     "text": [
      "Success\n"
     ]
    }
   ],
   "source": [
    "test_connection()"
   ]
  },
  {
   "cell_type": "markdown",
   "metadata": {},
   "source": [
    "### Setting environment variables "
   ]
  },
  {
   "cell_type": "code",
   "execution_count": 58,
   "metadata": {},
   "outputs": [],
   "source": [
    "import os\n",
    "\n",
    "def env_variables():\n",
    "    password = os.getenv(\"PASSWORD\")\n",
    "    username = os.getenv(\"USERNAME\")\n",
    "\n",
    "    print(username)\n",
    "    print(password)\n"
   ]
  },
  {
   "cell_type": "code",
   "execution_count": 59,
   "metadata": {},
   "outputs": [
    {
     "name": "stdout",
     "output_type": "stream",
     "text": [
      "kferreira\n",
      "None\n"
     ]
    }
   ],
   "source": [
    "env_variables()"
   ]
  },
  {
   "cell_type": "markdown",
   "metadata": {},
   "source": [
    "### collections.deque()\n",
    "###### NOTE: more efficient method, than list other list object\n",
    "\n",
    "- appends and pops from either side of a list. \n",
    "- more memory efficient than a normal list object. \n",
    "\n"
   ]
  },
  {
   "cell_type": "markdown",
   "metadata": {},
   "source": [
    "### os.rmdir()\n",
    "\n",
    "- `os.rmdir()` method in Python is used to remove or delete a empty directory. `OSError` will be raised if the specified path is not an empty directory."
   ]
  },
  {
   "cell_type": "code",
   "execution_count": 68,
   "metadata": {},
   "outputs": [
    {
     "name": "stdout",
     "output_type": "stream",
     "text": [
      "Directory 'tmp' has been removed successfully\n"
     ]
    }
   ],
   "source": [
    "# Python program to explain os.rmdir() method \n",
    "# importing os module \n",
    "import os\n",
    "# Directory name\n",
    "directory = \"tmp\"\n",
    "# Parent Directory\n",
    "parent = \"\"\n",
    "# Path\n",
    "path = os.path.join(parent, directory)\n",
    "# Remove the Directory\n",
    "# \"ihritik\"\n",
    "try:\n",
    "    os.rmdir(path)\n",
    "    print(\"Directory '%s' has been removed successfully\" %directory)\n",
    "except OSError as error:\n",
    "    print(error)\n",
    "    print(\"Directory '%s' can not be removed\" %directory)\n",
    "# if the specified path \n",
    "# is not an empty directory\n",
    "# then permission error will\n",
    "# be raised\n",
    "# similarly if specified path\n",
    "# is invalid or is not a \n",
    "# directory then corresponding\n",
    "\n",
    "# OSError will be raised"
   ]
  },
  {
   "cell_type": "code",
   "execution_count": null,
   "metadata": {},
   "outputs": [],
   "source": []
  }
 ],
 "metadata": {
  "kernelspec": {
   "display_name": "Python 3.9.6 ('lib_env': venv)",
   "language": "python",
   "name": "python3"
  },
  "language_info": {
   "codemirror_mode": {
    "name": "ipython",
    "version": 3
   },
   "file_extension": ".py",
   "mimetype": "text/x-python",
   "name": "python",
   "nbconvert_exporter": "python",
   "pygments_lexer": "ipython3",
   "version": "3.9.6"
  },
  "orig_nbformat": 4,
  "vscode": {
   "interpreter": {
    "hash": "478cc61aca76ea3a68bf9b73cb9863f03a5aef032dfce46b4b888bba5809bfc0"
   }
  }
 },
 "nbformat": 4,
 "nbformat_minor": 2
}
